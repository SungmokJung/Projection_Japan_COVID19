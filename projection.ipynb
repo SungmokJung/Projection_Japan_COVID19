{
 "cells": [
  {
   "cell_type": "code",
   "execution_count": null,
   "metadata": {},
   "outputs": [],
   "source": [
    "libraries = c(\"pkgmaker\",\"dplyr\",\"magrittr\",\"tidyr\",\"ggplot2\",\"readxl\",\"gridExtra\",\"lubridate\",\"openxlsx\",\n",
    "              \"foreach\",\"doParallel\",\"doRNG\",\"RColorBrewer\",\"zoo\",\"surveillance\",\"writexl\",\"distr\")\n",
    "for(x in libraries) { library(x,character.only=TRUE,warn.conflicts=FALSE,quietly=TRUE) }\n",
    "\n",
    "'%&%' = function(x,y) paste0(x,y)\n",
    "    \n",
    "theme_set(theme_bw())\n",
    "version$version.string"
   ]
  },
  {
   "cell_type": "code",
   "execution_count": null,
   "metadata": {
    "collapsed": true,
    "jupyter": {
     "outputs_hidden": true
    }
   },
   "outputs": [],
   "source": [
    "## specify the final date of data\n",
    "finaldata = as.Date(\"2020-05-27\")\n",
    "\n",
    "## discard the last 4 days of nowcasted number of case\n",
    "finalpoint = as.Date(\"2020-05-27\")-4\n",
    "\n",
    "## final date of sustaining emergency\n",
    "finalemer = as.Date(\"2020-05-25\")"
   ]
  },
  {
   "cell_type": "markdown",
   "metadata": {},
   "source": [
    "# Back-projection for the cases with unknown illness onset"
   ]
  },
  {
   "cell_type": "code",
   "execution_count": null,
   "metadata": {},
   "outputs": [],
   "source": [
    "## adding extra 10 days for the stability of back-projection procedure\n",
    "temp_lastdays <- matrix(NA, ncol=1, nrow=10)\n",
    "temp_lastdays %<>% as.data.frame() %>% mutate(labconf = as.Date((max(unknown_Japan$labconf)+1):(max(unknown_Japan$labconf)+10)),\n",
    "                                              total = 0) %>% dplyr::select(-V1)\n",
    "\n",
    "rbind(unknown_Japan, temp_lastdays) -> unknown_Japan\n",
    "unknown_Japan %<>% mutate(time_onset = 1:nrow(unknown_Japan))\n",
    "\n",
    "\n",
    "## time delay from the illness onset to confirmation\n",
    "K = nrow(unknown_Japan)\n",
    "\n",
    "rep_fit=list(shape=1.4875, scale=9.289) \n",
    "report_probability = pweibull(1:K, shape=rep_fit$shape, scale=rep_fit$scale) - pweibull(1:K-1, shape=rep_fit$shape, scale=rep_fit$scale)\n",
    "report_pmf = c(0,report_probability[1:21])\n",
    "\n",
    "\n",
    "## back-projecton of unknown cases\n",
    "sts = new(\"sts\", epoch=unknown_Japan$time_onset, observed=unknown_Japan$total)\n",
    "bpnp.control = list(k = 2, eps = rep(1e-4,2), iter.max=rep(1000,2), \n",
    "                    Tmark = nrow(sts), B = -1\n",
    "                    , alpha = 0.01, verbose = FALSE, lambda0 = NULL, \n",
    "                    eq3a.method = c(\"R\",\"C\"))\n",
    "sts_bp = backprojNP(sts, incu.pmf=report_pmf, control=modifyList(bpnp.control,list(eq3a.method=\"C\")))\n",
    "unknown_Japan$total_backproj = upperbound(sts_bp)\n",
    "\n",
    "\n",
    "## normalizing the back-projected cases\n",
    "unknown_Japan$total_backproj[unknown_Japan$total_backproj<=0.01] <- 0\n",
    "\n",
    "unknown_Japan %>% mutate(total_normal = round(total_backproj/sum(total_backproj)*sum(total)),\n",
    "                         time_onset=0:(nrow(unknown_Japan)-1)) %>%\n",
    "dplyr::select(time_onset, labconf, total_normal) %>% rename(onset = labconf, total = total_normal) -> dt.backproj_onset\n",
    "\n",
    "\n",
    "## merging the data\n",
    "merge(master_df_final, dt.backproj_onset, by=c('onset'), all.y=TRUE) %>% \n",
    "mutate(total = total.x + total.y) %>% dplyr::select(onset, total) -> df_onset\n",
    "df_onset[is.na(df_onset)] <- 0"
   ]
  },
  {
   "cell_type": "markdown",
   "metadata": {},
   "source": [
    "# Likelihood"
   ]
  },
  {
   "cell_type": "code",
   "execution_count": null,
   "metadata": {
    "collapsed": true,
    "jupyter": {
     "outputs_hidden": true
    }
   },
   "outputs": [],
   "source": [
    "date0 = as.Date(\"2019-12-31\")\n",
    "datel = finalpoint\n",
    "date2num = function(date){\n",
    "    as.numeric(date - date0)\n",
    "}\n",
    "\n",
    "# infection curve from growth rates\n",
    "incidence = function(i0 = 10, growthrates=c(0.1,0.2,0.1), timeperiods = c(0,5,15,20), precision = 1){\n",
    "    tseq = seq(timeperiods[1], timeperiods[length(timeperiods)], precision)\n",
    "    ires = tseq * 0\n",
    "    ibegin = i0\n",
    "    ires[1] = ibegin\n",
    "    for(period in 1:(length(timeperiods)-1)){\n",
    "        indexbeginend = c(timeperiods[period],timeperiods[period+1])/precision + 1\n",
    "        ts = seq(timeperiods[period],timeperiods[period+1], precision)\n",
    "        ires[seq(indexbeginend[1],indexbeginend[2])] = ires[indexbeginend[1]]*exp(growthrates[period]*(ts-ts[1]))\n",
    "    }\n",
    "    return(ires)\n",
    "}\n",
    "\n",
    "# infection curve from change points\n",
    "incidencefrompoints = function(i_t, timeperiods, precision = 1){\n",
    "    i0 = i_t[1]\n",
    "    growthrates = diff(log(i_t)) / diff(timeperiods)\n",
    "    incidence(i0, growthrates, timeperiods, precision)\n",
    "}\n",
    "\n",
    "# growth rates from change points\n",
    "gratefrompoints = function(i_t, timeperiods, precision = 1){\n",
    "    i0 = i_t[1]\n",
    "    growthrates = diff(log(i_t)) / diff(timeperiods)\n",
    "    return(growthrates)\n",
    "}"
   ]
  },
  {
   "cell_type": "code",
   "execution_count": null,
   "metadata": {
    "collapsed": true,
    "jupyter": {
     "outputs_hidden": true
    }
   },
   "outputs": [],
   "source": [
    "# reporting delay\n",
    "reportingdelay = Weibull(1.4875, 9.289)\n",
    "\n",
    "# incubation period\n",
    "incubationperiod = Lnorm(1.525, 0.629)\n",
    "\n",
    "# overall delay\n",
    "overalldelay = incubationperiod\n",
    "disc_overalldelay = p(overalldelay)(1:100)-p(overalldelay)(1:100-1)"
   ]
  },
  {
   "cell_type": "code",
   "execution_count": null,
   "metadata": {
    "collapsed": true,
    "jupyter": {
     "outputs_hidden": true
    }
   },
   "outputs": [],
   "source": [
    "# convolution\n",
    "observeincidence = function(incidence, delay){\n",
    "    Ires = incidence * 0\n",
    "    for(t in 1:(length(Ires)-1)){\n",
    "        extended_delay=c(delay,numeric(max(0,t-length(delay))))\n",
    "        Ires[t+1] = sum(incidence[1:t] * extended_delay[t:1])\n",
    "    }\n",
    "    Ires\n",
    "}\n",
    "\n",
    "# likelihood\n",
    "nllike = function(param, Data){\n",
    "\n",
    "    i_t = param\n",
    "    inc = incidencefrompoints(i_t, Data$timeperiods)\n",
    "    eI_t = observeincidence(inc, Data$delay)\n",
    "   \n",
    "    ll = -sum(dpois(Data$I, eI_t, T))\n",
    "}"
   ]
  },
  {
   "cell_type": "code",
   "execution_count": null,
   "metadata": {
    "collapsed": true,
    "jupyter": {
     "outputs_hidden": true
    }
   },
   "outputs": [],
   "source": [
    "# load data\n",
    "data <- df_onset\n",
    "data$onset <- as.Date(data$onset)\n",
    "\n",
    "# simple nowcasting \n",
    "data %>% filter(onset == finaldata) %>% dplyr::select(X) %>% as.numeric() -> Today\n",
    "delay_fit=list(shape=1.4898, scale=9.1510)\n",
    "delay_pdf <- function(t){pweibull(Today-t, delay_fit$shape, delay_fit$scale)}\n",
    "\n",
    "data %<>% mutate(cdf_incu = delay_pdf(X), nowcasted = round(total/cdf_incu)) %>%\n",
    "filter(onset <= (finalpoint))\n",
    "\n",
    "casecounts = c(numeric(date2num(as.Date(data$onset[1]))-1), data$nowcasted)"
   ]
  },
  {
   "cell_type": "markdown",
   "metadata": {},
   "source": [
    "# Estimation"
   ]
  },
  {
   "cell_type": "code",
   "execution_count": null,
   "metadata": {},
   "outputs": [],
   "source": [
    "library(LaplacesDemon)\n",
    "\n",
    "## likelihood for MCMC\n",
    "nllike = function(param, Data, q = 1){\n",
    "    i_t = exp(param)\n",
    "    inc = incidencefrompoints(i_t, Data$timeperiods)\n",
    "    eI_t = observeincidence(inc, Data$delay)\n",
    "    ll = 0\n",
    "    ll = ll + sum(dpois(Data$I, eI_t, T))\n",
    "    ll = ll - dnorm(0.1, q, 0.05)\n",
    "    -ll\n",
    "}\n",
    "\n",
    "\n",
    "## MCMC\n",
    "set.seed(19)\n",
    "Data = c(list(N = 0, parm.names = c(paste0(\"i\",0:3)), mon.names = \"LP\"), Data)\n",
    "MCMC = function(par, Data){\n",
    "    LL = -nllike(par, Data)\n",
    "    list(LP = LL, Dev = -2*LL, Monitor = LL, yhat=NULL, parm = par)\n",
    "}\n",
    "\n",
    "options(warn=-1)\n",
    "set.seed(32433)\n",
    "fit = LaplacesDemon(MCMC, Data, Initial.Values = numeric(4), Covar = NULL, Iterations = 200000, Status = 100000, Thinning = 100)\n",
    "options(warn=0)\n",
    "fit_d = deburn(fit, fit$Thinned.Samples/2)"
   ]
  },
  {
   "cell_type": "code",
   "execution_count": null,
   "metadata": {
    "collapsed": true,
    "jupyter": {
     "outputs_hidden": true
    }
   },
   "outputs": [],
   "source": [
    "i_t = exp(fit_d$Posterior1)\n",
    "rs = apply(exp(fit_d$Posterior1),1,gratefrompoints,timeperiods=Data$timeperiods)\n",
    "rownames(rs) = paste0(\"r\",1:3)"
   ]
  },
  {
   "cell_type": "code",
   "execution_count": null,
   "metadata": {},
   "outputs": [],
   "source": [
    "# i_t CrIs\n",
    "timeperiods = date2num(c(date0, as.Date(c(\"2020-3-25\", \"2020-4-7\")),datel))\n",
    "incidences = apply(i_t,1,incidencefrompoints, timeperiods = timeperiods)\n",
    "infectioncurves = apply(incidences, 1, quantile, probs = c(0.025,0.5,0.975))\n",
    "\n",
    "onsets = apply(incidences ,2, observeincidence, delay = disc_overalldelay)\n",
    "onsetcurves = apply(onsets, 1, quantile, probs = c(0.025,0.5,0.975))"
   ]
  },
  {
   "cell_type": "markdown",
   "metadata": {},
   "source": [
    "## Projected incidence from the last data point to 25 May 2020"
   ]
  },
  {
   "cell_type": "code",
   "execution_count": null,
   "metadata": {
    "collapsed": true,
    "jupyter": {
     "outputs_hidden": true
    }
   },
   "outputs": [],
   "source": [
    "iter = 1000"
   ]
  },
  {
   "cell_type": "code",
   "execution_count": null,
   "metadata": {},
   "outputs": [],
   "source": [
    "i_projection1 <- list()\n",
    "(as.numeric(finalemer - datel)) -> nubmerrow\n",
    "for (g in 1:iter){i_t[,4][g]*exp((rs[3,][g])*(1:nubmerrow)) -> i_projection1[[g]]}\n",
    "matrix(unlist(i_projection1),ncol=iter,byrow=FALSE) -> i_projection1_matrix\n",
    "\n",
    "inci_proj <- matrix(NA, nrow=nubmerrow, ncol=3)\n",
    "\n",
    "for (j in 1:nubmerrow){\n",
    "    inci_proj[j,3] <- as.numeric(quantile(i_projection1_matrix[j,1:iter], .975, na.rm = FALSE))\n",
    "    inci_proj[j,2] <- as.numeric(quantile(i_projection1_matrix[j,1:iter], .5, na.rm = FALSE))\n",
    "    inci_proj[j,1] <- as.numeric(quantile(i_projection1_matrix[j,1:iter], .025, na.rm = FALSE))}\n",
    "\n",
    "cbind(infectioncurves, t(inci_proj)) -> infectioncurves_projected"
   ]
  },
  {
   "cell_type": "markdown",
   "metadata": {},
   "source": [
    "## Projected reported case from the last data point to 25 May 2020"
   ]
  },
  {
   "cell_type": "code",
   "execution_count": null,
   "metadata": {},
   "outputs": [],
   "source": [
    "rbind(incidences, i_projection1_matrix) -> incidences_projected\n",
    "onsets_projected = apply(incidences_projected ,2, observeincidence, delay = disc_overalldelay)\n",
    "onsetcurves_projected = apply(onsets_projected, 1, quantile, probs = c(0.025,0.5,0.975))\n",
    "matplot(t(onsetcurves_projected), type = \"l\", col = 4, lty = c(2,1,2))"
   ]
  },
  {
   "cell_type": "markdown",
   "metadata": {},
   "source": [
    "# Computation of NGMs via Julia"
   ]
  },
  {
   "cell_type": "code",
   "execution_count": null,
   "metadata": {},
   "outputs": [],
   "source": [
    "library(JuliaCall)\n",
    "\n",
    "julia_setup(JULIA_HOME = \"C:/Users/##USER##/AppData/Local/Programs/Julia/Julia-1.4.1/bin\")"
   ]
  },
  {
   "cell_type": "code",
   "execution_count": null,
   "metadata": {},
   "outputs": [],
   "source": [
    "julia_library(\"Optim, CSV, LinearAlgebra, DelimitedFiles, Distributions\")\n",
    "julia_command(\"\n",
    "function KLdiv(dist_p, dist_q, kld = false, upper = 300)\n",
    "    div = 0\n",
    "    for i in 0:upper\n",
    "        if kld\n",
    "            div += pdf(dist_p,i) * (logpdf(dist_p,i) - logpdf(dist_q, i))\n",
    "        else\n",
    "            div += (pdf(dist_p,i) - pdf(dist_q,i))^2\n",
    "        end\n",
    "    end\n",
    "    div\n",
    "end\")\n",
    "julia_command(\"MixtureGeomGeom(lambda, mu, mix) = MixtureModel([Geometric(1/(1+lambda)),Geometric(1/(1+mu))], [mix, 1.0-mix])\")\n",
    "julia_command(\"NBmu(mu, k) = NegativeBinomial(k, k/(k+mu))\")\n",
    "julia_command(\"rtoR0(r, SI = 4.8, CV = (2.3/4.8)) = (1 + r*SI*CV^2)^(1/(CV^2))\")\n",
    "julia_command(\"function NGM(Re, lambda, mu, ph)\n",
    "    mixprop = (Re - mu) / (lambda - mu)\n",
    "    eqmat = [1 mu-lambda; 0 ph-mixprop]\n",
    "    rho_b = inv(eqmat) * [mu, (1 - mixprop) * ph]\n",
    "    rho = rho_b[1]; b = rho_b[2]\n",
    "    V = [mixprop b; 1-mixprop 1-b]\n",
    "    V*diagm([Re, rho])*inv(V)\n",
    "end\")\n",
    "julia_command(\"function R0toNGM(R0, kldvalues, k = 0.1, phighrisk = 0.99)\n",
    "    targetNB = NBmu(R0, k)\n",
    "    function objfunc(params, targetdist = targetNB, kld = true)\n",
    "        logdiv = log(KLdiv(targetdist, MixtureGeomGeom(params...), kld))\n",
    "        logdiv\n",
    "    end\n",
    "    opt = optimize(objfunc, [1e-4,R0,0.01], [R0,50,0.99], [0.1,5,0.1])\n",
    "    pars = opt.minimizer\n",
    "    kldvalues.=opt.minimum\n",
    "    NGM(R0, pars[1],pars[2], phighrisk)\n",
    "end\")"
   ]
  },
  {
   "cell_type": "code",
   "execution_count": null,
   "metadata": {},
   "outputs": [],
   "source": [
    "julia_assign('rsamples',t(rs))\n",
    "julia_command('kldvalues=[[0.0] for x in rsamples]')\n",
    "julia_command(\"R0s = rtoR0.(rsamples);\")\n",
    "julia_command(\"NGMs = R0toNGM.(R0s,kldvalues);\")\n",
    "julia_command(\"kldvals=first.(kldvalues)\")\n",
    "kldoutput=julia_eval(\"kldvals\")"
   ]
  },
  {
   "cell_type": "code",
   "execution_count": null,
   "metadata": {
    "collapsed": true,
    "jupyter": {
     "outputs_hidden": true
    }
   },
   "outputs": [],
   "source": [
    "# Convert NGMs to column major vectors and save as csv\n",
    "julia_command(\"NGMmat=reshape.(NGMs,Ref((4,1)));\")\n",
    "julia_command(\"NGMoutput = reduce(hcat, [vcat(i...) for i in (eachrow(NGMmat))]);\")\n",
    "NGMoutput = julia_eval(\"NGMoutput\")"
   ]
  },
  {
   "cell_type": "markdown",
   "metadata": {},
   "source": [
    "# 95% CIs of NGMs"
   ]
  },
  {
   "cell_type": "code",
   "execution_count": null,
   "metadata": {
    "collapsed": true,
    "jupyter": {
     "outputs_hidden": true
    }
   },
   "outputs": [],
   "source": [
    "SI = 4.8\n",
    "CV = 2.3/SI\n",
    "\n",
    "NGMoutput -> NGMs\n",
    "NGM1 <- NGMs[1:4,]; NGM2 <- NGMs[5:8,]; NGM3 <- NGMs[9:12,]"
   ]
  },
  {
   "cell_type": "code",
   "execution_count": null,
   "metadata": {},
   "outputs": [],
   "source": [
    "upper_r1 <- matrix(NA, nrow=4, ncol=1); median_r1 <- matrix(NA, nrow=4, ncol=1); lower_r1 <- matrix(NA, nrow=4, ncol=1)\n",
    "upper_r2 <- matrix(NA, nrow=4, ncol=1); median_r2 <- matrix(NA, nrow=4, ncol=1); lower_r2 <- matrix(NA, nrow=4, ncol=1)\n",
    "upper_r3 <- matrix(NA, nrow=4, ncol=1); median_r3 <- matrix(NA, nrow=4, ncol=1); lower_r3 <- matrix(NA, nrow=4, ncol=1)\n",
    "\n",
    "for (j in 1:4){\n",
    "    upper_r1[j,1] <- as.numeric(quantile(NGM1[j,1:iter], .975, na.rm = FALSE))\n",
    "    median_r1[j,1] <- as.numeric(quantile(NGM1[j,1:iter], .5, na.rm = FALSE))\n",
    "    lower_r1[j,1] <- as.numeric(quantile(NGM1[j,1:iter], .025, na.rm = FALSE))\n",
    "\n",
    "    upper_r2[j,1] <- as.numeric(quantile(NGM2[j,1:iter], .975, na.rm = FALSE))\n",
    "    median_r2[j,1] <- as.numeric(quantile(NGM2[j,1:iter], .5, na.rm = FALSE))\n",
    "    lower_r2[j,1] <- as.numeric(quantile(NGM2[j,1:iter], .025, na.rm = FALSE))\n",
    "\n",
    "    upper_r3[j,1] <- as.numeric(quantile(NGM3[j,1:iter], .975, na.rm = FALSE))\n",
    "    median_r3[j,1] <- as.numeric(quantile(NGM3[j,1:iter], .5, na.rm = FALSE))\n",
    "    lower_r3[j,1] <- as.numeric(quantile(NGM3[j,1:iter], .025, na.rm = FALSE))}\n",
    "\n",
    "(cbind(upper_r1, median_r1, lower_r1, \n",
    "       upper_r2, median_r2, lower_r2,\n",
    "       upper_r3, median_r3, lower_r3) -> NGM_CIs)"
   ]
  },
  {
   "cell_type": "markdown",
   "metadata": {},
   "source": [
    "# Incidence from NGMs"
   ]
  },
  {
   "cell_type": "code",
   "execution_count": null,
   "metadata": {
    "collapsed": true,
    "jupyter": {
     "outputs_hidden": true
    }
   },
   "outputs": [],
   "source": [
    "## decrease from NGM of Period 1\n",
    "NGM_30 <- rbind(NGM1[1:2,], (NGM1[3:4,]*0.5))\n",
    "NGM_50 <- rbind(NGM1[1:2,], (NGM1[3:4,]*0.7))\n",
    "NGM_70 <- rbind(NGM1[1:2,], (NGM1[3:4,]*0.9))"
   ]
  },
  {
   "cell_type": "code",
   "execution_count": null,
   "metadata": {
    "collapsed": true,
    "jupyter": {
     "outputs_hidden": true
    }
   },
   "outputs": [],
   "source": [
    "## growth rate for each scenarios\n",
    "\n",
    "r1 <-  matrix(NA, nrow=iter, ncol=1); r2 <-  matrix(NA, nrow=iter, ncol=1); r3 <-  matrix(NA, nrow=iter, ncol=1);\n",
    "r4 <-  matrix(NA, nrow=iter, ncol=1); r5 <-  matrix(NA, nrow=iter, ncol=1); r6 <-  matrix(NA, nrow=iter, ncol=1);\n",
    "\n",
    "for (k in 1:iter){\n",
    "    r1[k,1] <- ((eigen(matrix(NGM1[,k],nrow=2))$value[1])^(CV^2)-1)/(SI*CV^2)\n",
    "    r2[k,1] <- ((eigen(matrix(NGM2[,k],nrow=2))$value[1])^(CV^2)-1)/(SI*CV^2)\n",
    "    r3[k,1] <- ((eigen(matrix(NGM3[,k],nrow=2))$value[1])^(CV^2)-1)/(SI*CV^2)\n",
    "    \n",
    "    r4[k,1] <- ((eigen(matrix(NGM_30[,k],nrow=2))$value[1])^(CV^2)-1)/(SI*CV^2)\n",
    "    r5[k,1] <- ((eigen(matrix(NGM_50[,k],nrow=2))$value[1])^(CV^2)-1)/(SI*CV^2)\n",
    "    r6[k,1] <- ((eigen(matrix(NGM_70[,k],nrow=2))$value[1])^(CV^2)-1)/(SI*CV^2)\n",
    "}\n",
    "\n",
    "## quantile of growth rates\n",
    "r1_quan <- as.numeric(c(quantile(r1, 0.975), quantile(r1, 0.5), quantile(r1, 0.025)))\n",
    "r2_quan <- as.numeric(c(quantile(r2, 0.975), quantile(r2, 0.5), quantile(r2, 0.025)))\n",
    "r3_quan <- as.numeric(c(quantile(r3, 0.975), quantile(r3, 0.5), quantile(r3, 0.025)))\n",
    "\n",
    "r4_quan <- as.numeric(c(quantile(r4, 0.975), quantile(r4, 0.5), quantile(r4, 0.025)))\n",
    "r5_quan <- as.numeric(c(quantile(r5, 0.975), quantile(r5, 0.5), quantile(r5, 0.025)))\n",
    "r6_quan <- as.numeric(c(quantile(r6, 0.975), quantile(r6, 0.5), quantile(r6, 0.025)))"
   ]
  },
  {
   "cell_type": "code",
   "execution_count": null,
   "metadata": {},
   "outputs": [],
   "source": [
    "## projection of newly incidence\n",
    "\n",
    "(Final.T = as.numeric(as.Date(\"2020-07-30\")-finalemer))\n",
    "(i0 = as.numeric(infectioncurves_projected[2,ncol(infectioncurves_projected)]))\n",
    "\n",
    "case1 <- matrix(NA, nrow= Final.T, ncol=3); case2 <- matrix(NA, nrow= Final.T, ncol=3); case3 <- matrix(NA, nrow= Final.T, ncol=3)\n",
    "case4 <- matrix(NA, nrow= Final.T, ncol=3); case5 <- matrix(NA, nrow= Final.T, ncol=3); case6 <- matrix(NA, nrow= Final.T, ncol=3)\n",
    "for (g in 1:3){\n",
    "    case1[,g] <- as.matrix(i0*exp(r1_quan[g]*(1:Final.T)))\n",
    "    case2[,g] <- as.matrix(i0*exp(r2_quan[g]*(1:Final.T)))\n",
    "    case3[,g] <- as.matrix(i0*exp(r3_quan[g]*(1:Final.T)))\n",
    "    \n",
    "    case4[,g] <- as.matrix(i0*exp(r4_quan[g]*(1:Final.T)))\n",
    "    case5[,g] <- as.matrix(i0*exp(r5_quan[g]*(1:Final.T)))\n",
    "    case6[,g] <- as.matrix(i0*exp(r6_quan[g]*(1:Final.T)))}"
   ]
  },
  {
   "cell_type": "code",
   "execution_count": null,
   "metadata": {
    "collapsed": true,
    "jupyter": {
     "outputs_hidden": true
    }
   },
   "outputs": [],
   "source": [
    "colnames(case1) <- c(\"upper\", \"med\", \"lower\"); colnames(case2) <- c(\"upper\", \"med\", \"lower\"); colnames(case3) <- c(\"upper\", \"med\", \"lower\")\n",
    "colnames(case4) <- c(\"upper\", \"med\", \"lower\"); colnames(case5) <- c(\"upper\", \"med\", \"lower\"); colnames(case6) <- c(\"upper\", \"med\", \"lower\")\n",
    "\n",
    "case1 %>% as.data.frame() %>% mutate(time = 1:nrow(case1)) %>% mutate(cal_date = finalemer+time) -> case1_figure\n",
    "case2 %>% as.data.frame() %>% mutate(time = 1:nrow(case2)) %>% mutate(cal_date = finalemer+time) -> case2_figure\n",
    "case3 %>% as.data.frame() %>% mutate(time = 1:nrow(case3)) %>% mutate(cal_date = finalemer+time) -> case3_figure\n",
    "\n",
    "case4 %>% as.data.frame() %>% mutate(time = 1:nrow(case4)) %>% mutate(cal_date = finalemer+time) -> case4_figure\n",
    "case5 %>% as.data.frame() %>% mutate(time = 1:nrow(case5)) %>% mutate(cal_date = finalemer+time) -> case5_figure\n",
    "case6 %>% as.data.frame() %>% mutate(time = 1:nrow(case6)) %>% mutate(cal_date = finalemer+time) -> case6_figure\n",
    "\n",
    "t(infectioncurves_projected) %>% as.data.frame() -> basic_line\n",
    "basic_line %>% mutate(time = 1:nrow(basic_line)) %>% mutate(cal_date = as.Date(\"2019-12-30\")+time) -> basic_line\n",
    "colnames(basic_line) <- c(\"upper\", \"med\", \"lower\", \"time\", \"cal_date\")\n",
    "\n",
    "basic_line %>% tail(1) -> temp_start\n",
    "rbind(temp_start, case1_figure) -> case1_figure_connect\n",
    "rbind(temp_start, case2_figure) -> case2_figure_connect\n",
    "rbind(temp_start, case3_figure) -> case3_figure_connect\n",
    "\n",
    "rbind(temp_start, case4_figure) -> case4_figure_connect\n",
    "rbind(temp_start, case5_figure) -> case5_figure_connect\n",
    "rbind(temp_start, case6_figure) -> case6_figure_connect"
   ]
  },
  {
   "cell_type": "code",
   "execution_count": null,
   "metadata": {},
   "outputs": [],
   "source": [
    "options(warn=-1)\n",
    "options(repr.plot.width=10,repr.plot.height=5)\n",
    "\n",
    "range = c(as.Date(\"2020-02-01\"), as.Date(\"2020-07-30\"))\n",
    "\n",
    "case1_figure %>% ggplot() + \n",
    "geom_line(data=case1_figure_connect,aes(x=cal_date,y=med,colour=\"Scenario1 (back to normal)\"),size=1) +\n",
    "geom_ribbon(data=case1_figure_connect,aes(x=cal_date, ymax=case1_figure_connect$upper, ymin=case1_figure_connect$lower),fill=\"tomato\", alpha = 0.4) +\n",
    "\n",
    "geom_line(data=case4_figure_connect,aes(x=cal_date,y=med,colour=\"Scenario4 (50% decrease in high-risk transmission)\"),size=1) +\n",
    "geom_ribbon(data=case4_figure_connect,aes(x=cal_date, ymax=case4_figure_connect$upper, ymin=case4_figure_connect$lower),fill=\"salmon3\", alpha = 0.4) +\n",
    "\n",
    "geom_line(data=case5_figure_connect,aes(x=cal_date,y=med,colour=\"Scenario3 (30% decrease in high-risk transmission)\"),size=1) +\n",
    "geom_ribbon(data=case5_figure_connect,aes(x=cal_date, ymax=case5_figure_connect$upper, ymin=case5_figure_connect$lower),fill=\"violetred3\", alpha = 0.4) +\n",
    "\n",
    "geom_line(data=case6_figure_connect,aes(x=cal_date,y=med,colour=\"Scenario2 (10% decrease in high-risk transmission)\"),size=1) +\n",
    "geom_ribbon(data=case6_figure_connect,aes(x=cal_date, ymax=case6_figure_connect$upper, ymin=case6_figure_connect$lower),fill=\"seagreen4\", alpha = 0.4) +\n",
    "\n",
    "geom_line(data=basic_line,aes(x=cal_date,y=med),color=\"gray4\",size=1) +\n",
    "geom_ribbon(data=basic_line,aes(x=cal_date, ymax=basic_line$upper, ymin=basic_line$lower),fill=\"gray4\", alpha = 0.4) +\n",
    "labs(x=\"\\nDate of infection\", y=\"Number of new infections\\n\") +\n",
    "scale_x_date(date_labels=\"%m/%d\",date_breaks  =\"3 weeks\", limits = range, expand = c(0, 0)) +\n",
    "theme(text = element_text(size=12, family=\"sans\",color=\"black\"),\n",
    "      axis.text = element_text(size=10, family=\"sans\",color=\"black\"),\n",
    "      panel.grid.major = element_blank(), panel.grid.minor = element_blank()) +\n",
    "ggtitle(\"Tokyo\") +\n",
    "geom_vline(xintercept=as.Date(\"2020-03-26\"), linetype=\"dashed\", color = \"tomato\", size =0.7) +\n",
    "geom_vline(xintercept=as.Date(\"2020-04-08\"), linetype=\"dashed\", color = \"tomato\", size =0.7) +\n",
    "geom_vline(xintercept=as.Date(\"2020-05-25\"), linetype=\"dashed\", color = \"tomato\", size =0.7) +\n",
    "scale_y_continuous(expand = c(0, 0)) + coord_cartesian(ylim = c(0:250)) +\n",
    "scale_colour_manual(\"\", values = c(\"Scenario1 (back to normal)\"=\"tomato\", \n",
    "                                   \"Scenario2 (10% decrease in high-risk transmission)\"=\"seagreen4\", \n",
    "                                   \"Scenario3 (30% decrease in high-risk transmission)\"=\"violetred3\",\n",
    "                                   \"Scenario4 (50% decrease in high-risk transmission)\"=\"#1380A1\"))"
   ]
  },
  {
   "cell_type": "markdown",
   "metadata": {},
   "source": [
    "# Observed cases from NGMs"
   ]
  },
  {
   "cell_type": "code",
   "execution_count": null,
   "metadata": {
    "collapsed": true,
    "jupyter": {
     "outputs_hidden": true
    }
   },
   "outputs": [],
   "source": [
    "Final.TT <- length(as.vector(c(infectioncurves_projected[2,])))+nrow(case1)\n",
    "\n",
    "## iterated incidience \n",
    "case1 <- matrix(NA, nrow= Final.T, ncol=iter); case2 <- matrix(NA, nrow= Final.T, ncol=iter); case3 <- matrix(NA, nrow= Final.T, ncol=iter)\n",
    "case4 <- matrix(NA, nrow= Final.T, ncol=iter); case5 <- matrix(NA, nrow= Final.T, ncol=iter); case6 <- matrix(NA, nrow= Final.T, ncol=iter)\n",
    "\n",
    "\n",
    "for (g in 1:iter){\n",
    "    case1[,g] <- as.matrix(i0*exp(r1[g]*(1:Final.T)))\n",
    "    case2[,g] <- as.matrix(i0*exp(r2[g]*(1:Final.T)))\n",
    "    case3[,g] <- as.matrix(i0*exp(r3[g]*(1:Final.T)))\n",
    "    \n",
    "    case4[,g] <- as.matrix(i0*exp(r4[g]*(1:Final.T)))\n",
    "    case5[,g] <- as.matrix(i0*exp(r5[g]*(1:Final.T)))\n",
    "    case6[,g] <- as.matrix(i0*exp(r6[g]*(1:Final.T)))\n",
    "}\n",
    "\n",
    "## iterated incidience from each scenarios * incubation period\n",
    "\n",
    "onset1 <- matrix(NA, nrow= Final.TT, ncol=iter)\n",
    "onset2 <- matrix(NA, nrow= Final.TT, ncol=iter)\n",
    "onset3 <- matrix(NA, nrow= Final.TT, ncol=iter)\n",
    "\n",
    "onset4 <- matrix(NA, nrow= Final.TT, ncol=iter)\n",
    "onset5 <- matrix(NA, nrow= Final.TT, ncol=iter)\n",
    "onset6 <- matrix(NA, nrow= Final.TT, ncol=iter)\n",
    "\n",
    "for (g in 1:iter){\n",
    "    onset1[,g] <- as.matrix(observeincidence(as.vector(c(infectioncurves_projected[2,],as.vector(case1[,g]))), Data$delay))\n",
    "    onset2[,g] <- as.matrix(observeincidence(as.vector(c(infectioncurves_projected[2,],as.vector(case2[,g]))), Data$delay))\n",
    "    onset3[,g] <- as.matrix(observeincidence(as.vector(c(infectioncurves_projected[2,],as.vector(case3[,g]))), Data$delay))\n",
    "\n",
    "    onset4[,g] <- as.matrix(observeincidence(as.vector(c(infectioncurves_projected[2,],as.vector(case4[,g]))), Data$delay))\n",
    "    onset5[,g] <- as.matrix(observeincidence(as.vector(c(infectioncurves_projected[2,],as.vector(case5[,g]))), Data$delay))\n",
    "    onset6[,g] <- as.matrix(observeincidence(as.vector(c(infectioncurves_projected[2,],as.vector(case6[,g]))), Data$delay))\n",
    "}\n",
    "\n",
    "## calculating quantiles\n",
    "\n",
    "onset_ci1 <- matrix(NA, nrow=nrow(onset1), ncol=3)\n",
    "onset_ci2 <- matrix(NA, nrow=nrow(onset1), ncol=3)\n",
    "onset_ci3 <- matrix(NA, nrow=nrow(onset1), ncol=3)\n",
    "\n",
    "onset_ci4 <- matrix(NA, nrow=nrow(onset1), ncol=3)\n",
    "onset_ci5 <- matrix(NA, nrow=nrow(onset1), ncol=3)\n",
    "onset_ci6 <- matrix(NA, nrow=nrow(onset1), ncol=3)\n",
    "\n",
    "for (j in 1:nrow(onset1)){\n",
    "    onset_ci1[j,1] <- as.numeric(quantile(onset1[j,1:iter], .975, na.rm = FALSE))\n",
    "    onset_ci1[j,2] <- as.numeric(quantile(onset1[j,1:iter], .5, na.rm = FALSE))\n",
    "    onset_ci1[j,3] <- as.numeric(quantile(onset1[j,1:iter], .025, na.rm = FALSE))\n",
    "\n",
    "    onset_ci2[j,1] <- as.numeric(quantile(onset2[j,1:iter], .975, na.rm = FALSE))\n",
    "    onset_ci2[j,2] <- as.numeric(quantile(onset2[j,1:iter], .5, na.rm = FALSE))\n",
    "    onset_ci2[j,3] <- as.numeric(quantile(onset2[j,1:iter], .025, na.rm = FALSE))\n",
    "\n",
    "    onset_ci3[j,1] <- as.numeric(quantile(onset3[j,1:iter], .975, na.rm = FALSE))\n",
    "    onset_ci3[j,2] <- as.numeric(quantile(onset3[j,1:iter], .5, na.rm = FALSE))\n",
    "    onset_ci3[j,3] <- as.numeric(quantile(onset3[j,1:iter], .025, na.rm = FALSE))\n",
    "    \n",
    "    onset_ci4[j,1] <- as.numeric(quantile(onset4[j,1:iter], .975, na.rm = FALSE))\n",
    "    onset_ci4[j,2] <- as.numeric(quantile(onset4[j,1:iter], .5, na.rm = FALSE))\n",
    "    onset_ci4[j,3] <- as.numeric(quantile(onset4[j,1:iter], .025, na.rm = FALSE))\n",
    "    \n",
    "    onset_ci5[j,1] <- as.numeric(quantile(onset5[j,1:iter], .975, na.rm = FALSE))\n",
    "    onset_ci5[j,2] <- as.numeric(quantile(onset5[j,1:iter], .5, na.rm = FALSE))\n",
    "    onset_ci5[j,3] <- as.numeric(quantile(onset5[j,1:iter], .025, na.rm = FALSE))\n",
    "    \n",
    "    onset_ci6[j,1] <- as.numeric(quantile(onset6[j,1:iter], .975, na.rm = FALSE))\n",
    "    onset_ci6[j,2] <- as.numeric(quantile(onset6[j,1:iter], .5, na.rm = FALSE))\n",
    "    onset_ci6[j,3] <- as.numeric(quantile(onset6[j,1:iter], .025, na.rm = FALSE))\n",
    "}"
   ]
  },
  {
   "cell_type": "code",
   "execution_count": null,
   "metadata": {
    "collapsed": true,
    "jupyter": {
     "outputs_hidden": true
    }
   },
   "outputs": [],
   "source": [
    "colnames(onset_ci1) <- c(\"upper\", \"med\", \"lower\")\n",
    "colnames(onset_ci2) <- c(\"upper\", \"med\", \"lower\")\n",
    "colnames(onset_ci3) <- c(\"upper\", \"med\", \"lower\")\n",
    "\n",
    "colnames(onset_ci4) <- c(\"upper\", \"med\", \"lower\")\n",
    "colnames(onset_ci5) <- c(\"upper\", \"med\", \"lower\")\n",
    "colnames(onset_ci6) <- c(\"upper\", \"med\", \"lower\")\n",
    "\n",
    "onset_ci1 %>% as.data.frame() %>% mutate(time = 1:nrow(onset_ci1)) %>% mutate(cal_date = as.Date(\"2019-12-30\")+time) -> onset_ci1_figure\n",
    "onset_ci2 %>% as.data.frame() %>% mutate(time = 1:nrow(onset_ci1)) %>% mutate(cal_date = as.Date(\"2019-12-30\")+time) -> onset_ci2_figure\n",
    "onset_ci3 %>% as.data.frame() %>% mutate(time = 1:nrow(onset_ci1)) %>% mutate(cal_date = as.Date(\"2019-12-30\")+time) -> onset_ci3_figure\n",
    "\n",
    "onset_ci4 %>% as.data.frame() %>% mutate(time = 1:nrow(onset_ci1)) %>% mutate(cal_date = as.Date(\"2019-12-30\")+time) -> onset_ci4_figure\n",
    "onset_ci5 %>% as.data.frame() %>% mutate(time = 1:nrow(onset_ci1)) %>% mutate(cal_date = as.Date(\"2019-12-30\")+time) -> onset_ci5_figure\n",
    "onset_ci6 %>% as.data.frame() %>% mutate(time = 1:nrow(onset_ci1)) %>% mutate(cal_date = as.Date(\"2019-12-30\")+time) -> onset_ci6_figure\n",
    "\n",
    "t(onsetcurves_projected) %>% as.data.frame() -> basic_line2\n",
    "basic_line2 %>% mutate(time = 1:nrow(basic_line)) %>% mutate(cal_date = as.Date(\"2019-12-30\")+time) -> basic_line2\n",
    "colnames(basic_line2) <- c(\"upper\", \"med\", \"lower\", \"time\", \"cal_date\")"
   ]
  },
  {
   "cell_type": "code",
   "execution_count": null,
   "metadata": {},
   "outputs": [],
   "source": [
    "options(warn=-1)\n",
    "\n",
    "data %>% ggplot()+ \n",
    "geom_bar(aes(x=onset, y=nowcasted), stat='identity', fill=\"#FAAB18\",size=0.7) +\n",
    "geom_line(data=onset_ci1_figure,aes(x=cal_date,y=med,colour =\"Scenario1 (back to normal)\"),size=1) +\n",
    "geom_ribbon(data=onset_ci1_figure,aes(x=cal_date, ymax=onset_ci1_figure$upper, ymin=onset_ci1_figure$lower),fill=\"tomato\", alpha = 0.4) +\n",
    "\n",
    "geom_line(data=onset_ci4_figure,aes(x=cal_date,y=med,color=\"Scenario4 (50% decrease in high-risk transmission)\"),size=1) +\n",
    "geom_ribbon(data=onset_ci4_figure,aes(x=cal_date, ymax=onset_ci4_figure$upper, ymin=onset_ci4_figure$lower),fill=\"#1380A1\", alpha = 0.4) +\n",
    "\n",
    "geom_line(data=onset_ci5_figure,aes(x=cal_date,y=med,colour =\"Scenario3 (30% decrease in high-risk transmission)\"),size=1) +\n",
    "geom_ribbon(data=onset_ci5_figure,aes(x=cal_date, ymax=onset_ci5_figure$upper, ymin=onset_ci5_figure$lower),fill=\"violetred3\", alpha = 0.4) +\n",
    "\n",
    "geom_line(data=onset_ci6_figure,aes(x=cal_date,y=med,colour =\"Scenario2 (10% decrease in high-risk transmission)\"),size=1) +\n",
    "geom_ribbon(data=onset_ci6_figure,aes(x=cal_date, ymax=onset_ci6_figure$upper, ymin=onset_ci6_figure$lower),fill=\"seagreen4\", alpha = 0.4) +\n",
    "\n",
    "geom_line(data=basic_line2,aes(x=cal_date,y=med),color=\"gray4\",size=1) +\n",
    "geom_ribbon(data=basic_line2,aes(x=cal_date, ymax=basic_line2$upper, ymin=basic_line2$lower),fill=\"gray4\", alpha = 0.4) +\n",
    "labs(x=\"\\nDate of illness onset\", y=\"Number of new cases\\n\") +\n",
    "scale_x_date(date_labels=\"%m/%d\",date_breaks  =\"3 weeks\",limits = range, expand = c(0, 0)) +\n",
    "theme(text = element_text(size=12, family=\"sans\",color=\"black\"),\n",
    "      axis.text = element_text(size=10, family=\"sans\",color=\"black\"),\n",
    "      panel.grid.major = element_blank(), panel.grid.minor = element_blank()) +\n",
    "ggtitle(\"Tokyo\") +\n",
    "geom_vline(xintercept=as.Date(\"2020-03-26\"), linetype=\"dashed\", color = \"tomato\", size =1) +\n",
    "geom_vline(xintercept=as.Date(\"2020-04-08\"), linetype=\"dashed\", color = \"tomato\", size =1) +\n",
    "geom_vline(xintercept=as.Date(\"2020-05-25\"), linetype=\"dashed\", color = \"tomato\", size =0.7) +\n",
    "scale_y_continuous(expand = c(0, 0)) + coord_cartesian(ylim = c(0:250)) +\n",
    "scale_colour_manual(\"\", values = c(\"Scenario1 (back to normal)\"=\"tomato\", \n",
    "                                   \"Scenario2 (10% decrease in high-risk transmission)\"=\"seagreen4\", \n",
    "                                   \"Scenario3 (30% decrease in high-risk transmission)\"=\"violetred3\",\n",
    "                                   \"Scenario4 (50% decrease in high-risk transmission)\"=\"#1380A1\"))"
   ]
  }
 ],
 "metadata": {
  "kernelspec": {
   "display_name": "R",
   "language": "R",
   "name": "ir"
  },
  "language_info": {
   "codemirror_mode": "r",
   "file_extension": ".r",
   "mimetype": "text/x-r-source",
   "name": "R",
   "pygments_lexer": "r",
   "version": "3.6.1"
  }
 },
 "nbformat": 4,
 "nbformat_minor": 4
}
